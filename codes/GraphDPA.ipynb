{
 "cells": [
  {
   "cell_type": "code",
   "execution_count": null,
   "metadata": {},
   "outputs": [],
   "source": [
    "import torch\n",
    "import torch.nn as nn\n",
    "import torch.nn.functional as F\n",
    "from torch_geometric.data import Data, DataLoader, Dataset\n",
    "from torch.nn import Linear, Embedding\n",
    "from torch_geometric.nn import GATConv, GCNConv, GATv2Conv, TransformerConv"
   ]
  },
  {
   "cell_type": "code",
   "execution_count": null,
   "metadata": {},
   "outputs": [],
   "source": [
    "def global_select_concat(feature, batch, x):\n",
    "    feature = feature[x==-1]\n",
    "    batch_size = batch[-1].item() + 1\n",
    "    return feature.view(batch_size, -1)"
   ]
  },
  {
   "cell_type": "code",
   "execution_count": null,
   "metadata": {},
   "outputs": [],
   "source": [
    "class GCN_Model(torch.nn.Module):\n",
    "    def __init__(self, word_sizes, embed_dim,  n_output=2):\n",
    "        super(GCN_Model, self).__init__()\n",
    "\n",
    "        self.embed_dim = embed_dim\n",
    "        #layers\n",
    "        self.embedding = Embedding(word_sizes, self.embed_dim)\n",
    "        self.gcn1 = GCNConv(embed_dim, 50)\n",
    "        self.gcn2 = GCNConv(50, 50)\n",
    "        self.gcn3 = GCNConv(50, 100)\n",
    "        self.fc1 = Linear(200, 100)\n",
    "        self.output = Linear(100, n_output)\n",
    "        \n",
    "    def forward(self, data):\n",
    "        # graph input feed-forward\n",
    "        x, edge_index, batch = data.x, data.edge_index, data.batch\n",
    "        \n",
    "        feature = [torch.zeros(self.embed_dim).to(x.get_device()) if point==-1 else self.embedding(point) for point in x]\n",
    "        feature = self.gcn1(torch.stack(feature), edge_index)\n",
    "        feature = F.relu(feature)\n",
    "        feature = self.gcn2(feature, edge_index)\n",
    "        feature = F.relu(feature)\n",
    "        feature = self.gcn3(feature, edge_index)\n",
    "        feature = F.relu(feature)\n",
    "        feature = global_select_concat(feature, batch, x)\n",
    "        feature = self.fc1(feature)\n",
    "        feature = F.dropout(feature, 0.2)\n",
    "        out = self.output(feature)\n",
    "        return out"
   ]
  }
 ],
 "metadata": {
  "kernelspec": {
   "display_name": "base",
   "language": "python",
   "name": "base"
  },
  "language_info": {
   "codemirror_mode": {
    "name": "ipython",
    "version": 3
   },
   "file_extension": ".py",
   "mimetype": "text/x-python",
   "name": "python",
   "nbconvert_exporter": "python",
   "pygments_lexer": "ipython3",
   "version": "3.9.5"
  }
 },
 "nbformat": 4,
 "nbformat_minor": 2
}
